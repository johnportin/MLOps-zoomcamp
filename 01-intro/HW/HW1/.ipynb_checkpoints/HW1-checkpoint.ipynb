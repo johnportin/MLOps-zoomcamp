{
 "cells": [
  {
   "cell_type": "code",
   "execution_count": 1,
   "id": "7ce2f764",
   "metadata": {},
   "outputs": [],
   "source": [
    "import pandas as pd\n",
    "from sklearn.feature_extraction import DictVectorizer\n",
    "from sklearn.linear_model import LinearRegression\n",
    "from sklearn.metrics import mean_squared_error"
   ]
  },
  {
   "cell_type": "code",
   "execution_count": 2,
   "id": "e3599a3b",
   "metadata": {},
   "outputs": [
    {
     "data": {
      "text/plain": [
       "19"
      ]
     },
     "execution_count": 2,
     "metadata": {},
     "output_type": "execute_result"
    }
   ],
   "source": [
    "# Q1 Downloading the data\n",
    "\n",
    "yellow_jan_2023_url = \"https://d37ci6vzurychx.cloudfront.net/trip-data/yellow_tripdata_2023-01.parquet\"\n",
    "yellow_feb_2023_url = \"https://d37ci6vzurychx.cloudfront.net/trip-data/yellow_tripdata_2023-02.parquet\"\n",
    "\n",
    "df_jan = pd.read_parquet(yellow_jan_2023_url)\n",
    "df_feb = pd.read_parquet(yellow_feb_2023_url)\n",
    "\n",
    "df_jan.dtypes.count()\n",
    "\n",
    "# 19"
   ]
  },
  {
   "cell_type": "code",
   "execution_count": 3,
   "id": "251461ef",
   "metadata": {},
   "outputs": [
    {
     "name": "stdout",
     "output_type": "stream",
     "text": [
      "<class 'pandas.core.frame.DataFrame'>\n",
      "RangeIndex: 3066766 entries, 0 to 3066765\n",
      "Data columns (total 19 columns):\n",
      " #   Column                 Dtype         \n",
      "---  ------                 -----         \n",
      " 0   VendorID               int64         \n",
      " 1   tpep_pickup_datetime   datetime64[ns]\n",
      " 2   tpep_dropoff_datetime  datetime64[ns]\n",
      " 3   passenger_count        float64       \n",
      " 4   trip_distance          float64       \n",
      " 5   RatecodeID             float64       \n",
      " 6   store_and_fwd_flag     object        \n",
      " 7   PULocationID           int64         \n",
      " 8   DOLocationID           int64         \n",
      " 9   payment_type           int64         \n",
      " 10  fare_amount            float64       \n",
      " 11  extra                  float64       \n",
      " 12  mta_tax                float64       \n",
      " 13  tip_amount             float64       \n",
      " 14  tolls_amount           float64       \n",
      " 15  improvement_surcharge  float64       \n",
      " 16  total_amount           float64       \n",
      " 17  congestion_surcharge   float64       \n",
      " 18  airport_fee            float64       \n",
      "dtypes: datetime64[ns](2), float64(12), int64(4), object(1)\n",
      "memory usage: 444.6+ MB\n"
     ]
    }
   ],
   "source": [
    "df_jan.info()"
   ]
  },
  {
   "cell_type": "code",
   "execution_count": 4,
   "id": "49f3a58c",
   "metadata": {},
   "outputs": [
    {
     "data": {
      "text/plain": [
       "count    3.066766e+06\n",
       "mean     1.566900e+01\n",
       "std      4.259435e+01\n",
       "min     -2.920000e+01\n",
       "25%      7.116667e+00\n",
       "50%      1.151667e+01\n",
       "75%      1.830000e+01\n",
       "max      1.002918e+04\n",
       "Name: duration, dtype: float64"
      ]
     },
     "execution_count": 4,
     "metadata": {},
     "output_type": "execute_result"
    }
   ],
   "source": [
    "# Q2 Computing duration\n",
    "\n",
    "df_jan['duration'] = df_jan.tpep_dropoff_datetime - df_jan.tpep_pickup_datetime\n",
    "df_jan.duration = df_jan.duration.apply(lambda td: td.total_seconds() / 60)\n",
    "\n",
    "df_jan['duration'].describe()\n",
    "\n",
    "# 42.59"
   ]
  },
  {
   "cell_type": "code",
   "execution_count": 5,
   "id": "ca58e500",
   "metadata": {},
   "outputs": [
    {
     "data": {
      "text/plain": [
       "(3066766, 20)"
      ]
     },
     "execution_count": 5,
     "metadata": {},
     "output_type": "execute_result"
    }
   ],
   "source": [
    "df_jan.shape"
   ]
  },
  {
   "cell_type": "code",
   "execution_count": 6,
   "id": "00a82bbc",
   "metadata": {},
   "outputs": [
    {
     "name": "stdout",
     "output_type": "stream",
     "text": [
      "0.9812202822125979\n"
     ]
    }
   ],
   "source": [
    "# Q3 Dropping outliers\n",
    "\n",
    "num_records = df_jan.shape[0]\n",
    "\n",
    "df_jan = df_jan[(df_jan.duration >= 1) & (df_jan.duration <= 60)]\n",
    "\n",
    "num_records_no_outliers = df_jan.shape[0]\n",
    "\n",
    "print(num_records_no_outliers / num_records)\n",
    "\n",
    "# 98%"
   ]
  },
  {
   "cell_type": "code",
   "execution_count": 7,
   "id": "618b43b1",
   "metadata": {},
   "outputs": [
    {
     "data": {
      "text/plain": [
       "(3009173, 20)"
      ]
     },
     "execution_count": 7,
     "metadata": {},
     "output_type": "execute_result"
    }
   ],
   "source": [
    "df_jan.shape"
   ]
  },
  {
   "cell_type": "code",
   "execution_count": 8,
   "id": "dac38202",
   "metadata": {},
   "outputs": [
    {
     "data": {
      "text/plain": [
       "(3009173, 515)"
      ]
     },
     "execution_count": 8,
     "metadata": {},
     "output_type": "execute_result"
    }
   ],
   "source": [
    "# Q4 One-hot encoding\n",
    "\n",
    "categorical = ['PULocationID', 'DOLocationID']\n",
    "numerical = ['trip_distance']\n",
    "df_jan[categorical] = df_jan[categorical].astype(str)\n",
    "\n",
    "dv = DictVectorizer()\n",
    "\n",
    "df_jan_dict = df_jan[categorical].to_dict(orient='records')\n",
    "X_train = dv.fit_transform(df_jan_dict)\n",
    "\n",
    "X_train.shape\n",
    "\n",
    "# 2"
   ]
  },
  {
   "cell_type": "code",
   "execution_count": 9,
   "id": "f7bde911",
   "metadata": {},
   "outputs": [
    {
     "data": {
      "text/plain": [
       "7.649261027792376"
      ]
     },
     "execution_count": 9,
     "metadata": {},
     "output_type": "execute_result"
    }
   ],
   "source": [
    "# Q5 Training a model\n",
    "\n",
    "target = 'duration'\n",
    "y_train = df_jan[target].values\n",
    "\n",
    "lr = LinearRegression()\n",
    "lr.fit(X_train, y_train)\n",
    "\n",
    "y_pred = lr.predict(X_train)\n",
    "\n",
    "mean_squared_error(y_train, y_pred, squared=False)\n",
    "\n",
    "# 7.64"
   ]
  },
  {
   "cell_type": "code",
   "execution_count": 10,
   "id": "7fe4d3ba",
   "metadata": {},
   "outputs": [],
   "source": [
    "# Q6 Evaluating the model\n",
    "\n",
    "df_feb['duration'] = df_feb.tpep_dropoff_datetime - df_feb.tpep_pickup_datetime\n",
    "df_feb.duration = df_feb.duration.apply(lambda td: td.total_seconds() / 60)\n",
    "\n",
    "df_feb= df_feb[(df_feb.duration >= 1) & (df_feb.duration <= 60)]\n",
    "\n",
    "df_feb[categorical] = df_feb[categorical].astype(str)\n",
    "df_feb_dict = df_feb[categorical + numerical].to_dict(orient='records')\n",
    "\n"
   ]
  },
  {
   "cell_type": "code",
   "execution_count": 11,
   "id": "7a59f567",
   "metadata": {},
   "outputs": [
    {
     "data": {
      "text/plain": [
       "7.811832836304415"
      ]
     },
     "execution_count": 11,
     "metadata": {},
     "output_type": "execute_result"
    }
   ],
   "source": [
    "X_val = dv.transform(df_feb_dict)\n",
    "\n",
    "y_val = df_feb[target].values\n",
    "\n",
    "y_pred = lr.predict(X_val)\n",
    "\n",
    "mean_squared_error(y_val, y_pred, squared=False)\n",
    "\n",
    "# 7.81"
   ]
  },
  {
   "cell_type": "code",
   "execution_count": null,
   "id": "d3d96bdf",
   "metadata": {},
   "outputs": [],
   "source": []
  }
 ],
 "metadata": {
  "kernelspec": {
   "display_name": "Python 3 (ipykernel)",
   "language": "python",
   "name": "python3"
  },
  "language_info": {
   "codemirror_mode": {
    "name": "ipython",
    "version": 3
   },
   "file_extension": ".py",
   "mimetype": "text/x-python",
   "name": "python",
   "nbconvert_exporter": "python",
   "pygments_lexer": "ipython3",
   "version": "3.9.12"
  }
 },
 "nbformat": 4,
 "nbformat_minor": 5
}
